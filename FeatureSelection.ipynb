{
 "cells": [
  {
   "cell_type": "markdown",
   "id": "462e9769",
   "metadata": {},
   "source": [
    "# 特征筛选\n",
    "## 使用RFECV对ssGSEA、PPI30、WGCNA进行特征筛选"
   ]
  },
  {
   "cell_type": "code",
   "execution_count": 1,
   "id": "b42a5074",
   "metadata": {},
   "outputs": [],
   "source": [
    "import optuna\n",
    "from sklearn.metrics import roc_auc_score\n",
    "from sklearn.model_selection import train_test_split\n",
    "import xgboost as xgb\n",
    "from sklearn.ensemble import ExtraTreesClassifier, RandomForestClassifier, GradientBoostingClassifier, AdaBoostClassifier, BaggingClassifier, VotingClassifier\n",
    "from sklearn.linear_model import LogisticRegression\n",
    "from sklearn.neighbors import KNeighborsClassifier\n",
    "from sklearn.naive_bayes import GaussianNB\n",
    "from sklearn.discriminant_analysis import LinearDiscriminantAnalysis\n",
    "from sklearn.svm import SVC\n",
    "import pandas as pd\n",
    "import os\n",
    "import numpy as np\n",
    "from sklearn.preprocessing import StandardScaler\n",
    "\n",
    "np.random.seed(42)\n",
    "random_state = 42\n",
    "\n",
    "scaler = StandardScaler()\n",
    "# 加载数据集\n",
    "data_ssgsea = pd.read_csv('ssgsea_10.csv')\n",
    "X_ssgsea = data_ssgsea.iloc[:, 1:]\n",
    "y_ssgsea = data_ssgsea.iloc[:, 0]  # 假设标签在 data1 的第一列\n",
    "\n",
    "X_ssgsea_scaled = scaler.fit_transform(X_ssgsea)\n",
    "\n",
    "# 拆分数据集\n",
    "X_train_ssgsea, X_test_ssgsea, y_train_ssgsea, y_test_ssgsea = train_test_split(X_ssgsea_scaled, y_ssgsea, test_size=0.2, random_state = random_state)\n",
    "\n",
    "data_ppi = pd.read_csv('ppi_10.csv')\n",
    "X_ppi = data_ppi.iloc[:, 1:]\n",
    "y_ppi = data_ppi.iloc[:, 0]  # 假设标签在 data1 的第一列\n",
    "\n",
    "X_ppi_scaled = scaler.fit_transform(X_ppi)\n",
    "\n",
    "# 拆分数据集\n",
    "X_train_ppi, X_test_ppi, y_train_ppi, y_test_ppi = train_test_split(X_ppi_scaled, y_ppi, test_size=0.2, random_state = random_state)\n",
    "\n",
    "data_wgcna = pd.read_csv('wgcna_10.csv')\n",
    "X_wgcna = data_wgcna.iloc[:, 1:]\n",
    "y_wgcna = data_wgcna.iloc[:, 0]  # 假设标签在 data1 的第一列\n",
    "\n",
    "X_wgcna_scaled = scaler.fit_transform(X_wgcna)\n",
    "\n",
    "# 拆分数据集\n",
    "X_train_wgcna, X_test_wgcna, y_train_wgcna, y_test_wgcna = train_test_split(X_wgcna_scaled, y_wgcna, test_size=0.2, random_state = random_state)"
   ]
  },
  {
   "cell_type": "code",
   "execution_count": 2,
   "id": "bf24a715",
   "metadata": {
    "scrolled": true
   },
   "outputs": [
    {
     "name": "stdout",
     "output_type": "stream",
     "text": [
      "SSGSEA筛选的特征: ['CD79A', 'PPP3CA', 'IFNG', 'KRAS', 'CD40LG', 'CTSH', 'FCN1', 'PTPN6', 'F2RL2', 'FCGR2B']\n",
      "PPI筛选的特征: ['PDGFB', 'H3C13', 'SERPINE1', 'CALML4', 'MMP1', 'CDH5', 'H2AC8', 'CENPW', 'H2BC5', 'CCNB1']\n",
      "WGCNA筛选的特征: ['APLP2', 'GRB2', 'BST1', 'MAP3K3', 'CHP1', 'HSPA8', 'PABPC1', 'DYNLT1', 'ELF1', 'RBM38']\n"
     ]
    }
   ],
   "source": [
    "from sklearn.preprocessing import StandardScaler\n",
    "from sklearn.model_selection import StratifiedKFold\n",
    "from sklearn.feature_selection import RFECV\n",
    "\n",
    "\n",
    "# 更新RFECV筛选函数\n",
    "def feature_selection_rfecv(X, y, num_features=10):\n",
    "    model = LogisticRegression(max_iter=5000, random_state=42, solver='saga')  # 增加max_iter并更换求解器\n",
    "    cv = StratifiedKFold(n_splits=5, shuffle=True, random_state=42)\n",
    "    selector = RFECV(estimator=model, step=1, cv=cv, scoring='roc_auc', min_features_to_select=num_features)\n",
    "    selector = selector.fit(X, y)\n",
    "    selected_features = X.columns[selector.support_][:num_features]\n",
    "    return selected_features\n",
    "\n",
    "# 使用标准化数据进行特征选择\n",
    "selected_features_ssgsea = feature_selection_rfecv(pd.DataFrame(X_train_ssgsea, columns=X_ssgsea.columns), y_train_ssgsea, num_features=10)\n",
    "selected_features_ppi = feature_selection_rfecv(pd.DataFrame(X_train_ppi, columns=X_ppi.columns), y_train_ppi, num_features=10)\n",
    "selected_features_wgcna = feature_selection_rfecv(pd.DataFrame(X_train_wgcna, columns=X_wgcna.columns), y_train_wgcna, num_features=10)\n",
    "\n",
    "# 打印结果\n",
    "print(\"SSGSEA筛选的特征:\", selected_features_ssgsea.tolist())\n",
    "print(\"PPI筛选的特征:\", selected_features_ppi.tolist())\n",
    "print(\"WGCNA筛选的特征:\", selected_features_wgcna.tolist())\n"
   ]
  },
  {
   "cell_type": "code",
   "execution_count": 3,
   "id": "a4ab8820",
   "metadata": {},
   "outputs": [],
   "source": [
    "# 根据筛选的特征提取数据\n",
    "selected_features_ssgsea = ['CD79A', 'PPP3CA', 'IFNG', 'KRAS', 'CD40LG', 'CTSH', 'FCN1', 'PTPN6', 'F2RL2', 'FCGR2B']\n",
    "selected_features_wgcna = ['APLP2', 'GRB2', 'BST1', 'MAP3K3', 'CHP1', 'HSPA8', 'PABPC1', 'DYNLT1', 'ELF1', 'RBM38']\n",
    "selected_features_ppi = ['PDGFB', 'H3C13', 'SERPINE1', 'CALML4', 'MMP1', 'CDH5', 'H2AC8', 'CENPW', 'H2BC5', 'CCNB1']\n",
    "\n",
    "# 创建新的数据集\n",
    "new_data_ssgsea = data_ssgsea[['group'] + selected_features_ssgsea]\n",
    "new_data_wgcna = data_wgcna[['group'] + selected_features_wgcna]\n",
    "new_data_ppi = data_ppi[['group'] + selected_features_ppi]"
   ]
  },
  {
   "cell_type": "code",
   "execution_count": 4,
   "id": "1a9b91ad",
   "metadata": {},
   "outputs": [],
   "source": [
    "# 保存为新的 CSV 文件\n",
    "new_data_ssgsea.to_csv('ssgsea_10.csv', index=False)\n",
    "new_data_wgcna.to_csv('wgcna_10.csv', index=False)\n",
    "new_data_ppi.to_csv('ppi_10.csv', index=False)"
   ]
  },
  {
   "cell_type": "code",
   "execution_count": null,
   "id": "b30cbc4c",
   "metadata": {},
   "outputs": [],
   "source": []
  }
 ],
 "metadata": {
  "kernelspec": {
   "display_name": "Python 3 (ipykernel)",
   "language": "python",
   "name": "python3"
  },
  "language_info": {
   "codemirror_mode": {
    "name": "ipython",
    "version": 3
   },
   "file_extension": ".py",
   "mimetype": "text/x-python",
   "name": "python",
   "nbconvert_exporter": "python",
   "pygments_lexer": "ipython3",
   "version": "3.11.5"
  }
 },
 "nbformat": 4,
 "nbformat_minor": 5
}
